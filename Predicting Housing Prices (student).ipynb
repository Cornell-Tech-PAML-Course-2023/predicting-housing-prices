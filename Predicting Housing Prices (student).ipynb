{
 "cells": [
  {
   "cell_type": "markdown",
   "metadata": {},
   "source": [
    "# Predicting Housing Prices Using Regression"
   ]
  },
  {
   "cell_type": "markdown",
   "metadata": {},
   "source": [
    "The goal of this notebook is to explore multiple regression and feature engineering Sklearn functions.\n",
    "\n",
    "In this notebook you will use data on house sales in California to predict prices using multiple, polynomial, ridge, and lasson regression. You will:\n",
    "* Perform feature engineering\n",
    "* Remove outliers\n",
    "* Handling Text and Categorical Attributes\n",
    "* Train multiple regression models \n",
    "* Inspect coefficients and interpret their meanings\n",
    "* Evaluate multiple models via RMSE, MAE, and R2\n",
    "* Use Cross validation to regularize weights to shrink coefficients of features not useful for predicting housing prices"
   ]
  },
  {
   "cell_type": "code",
   "execution_count": 1,
   "metadata": {},
   "outputs": [],
   "source": [
    "import pandas as pd\n",
    "import numpy as np\n",
    "import matplotlib.pyplot as plt\n",
    "from sklearn.model_selection import train_test_split\n",
    "from sklearn.pipeline import Pipeline\n",
    "from sklearn.preprocessing import StandardScaler"
   ]
  },
  {
   "cell_type": "markdown",
   "metadata": {},
   "source": [
    "# Import in house data"
   ]
  },
  {
   "cell_type": "code",
   "execution_count": 2,
   "metadata": {},
   "outputs": [],
   "source": [
    "df = pd.read_csv('./datasets/housing_paml.csv')"
   ]
  },
  {
   "cell_type": "code",
   "execution_count": 3,
   "metadata": {},
   "outputs": [
    {
     "data": {
      "text/html": [
       "<div>\n",
       "<style scoped>\n",
       "    .dataframe tbody tr th:only-of-type {\n",
       "        vertical-align: middle;\n",
       "    }\n",
       "\n",
       "    .dataframe tbody tr th {\n",
       "        vertical-align: top;\n",
       "    }\n",
       "\n",
       "    .dataframe thead th {\n",
       "        text-align: right;\n",
       "    }\n",
       "</style>\n",
       "<table border=\"1\" class=\"dataframe\">\n",
       "  <thead>\n",
       "    <tr style=\"text-align: right;\">\n",
       "      <th></th>\n",
       "      <th>longitude</th>\n",
       "      <th>latitude</th>\n",
       "      <th>housing_median_age</th>\n",
       "      <th>total_rooms</th>\n",
       "      <th>total_bedrooms</th>\n",
       "      <th>population</th>\n",
       "      <th>households</th>\n",
       "      <th>median_income</th>\n",
       "      <th>median_house_value</th>\n",
       "    </tr>\n",
       "  </thead>\n",
       "  <tbody>\n",
       "    <tr>\n",
       "      <th>count</th>\n",
       "      <td>20634.000000</td>\n",
       "      <td>20622.000000</td>\n",
       "      <td>20628.000000</td>\n",
       "      <td>20633.000000</td>\n",
       "      <td>20412.000000</td>\n",
       "      <td>20623.000000</td>\n",
       "      <td>20632.000000</td>\n",
       "      <td>20628.000000</td>\n",
       "      <td>20636.000000</td>\n",
       "    </tr>\n",
       "    <tr>\n",
       "      <th>mean</th>\n",
       "      <td>-119.568930</td>\n",
       "      <td>35.629984</td>\n",
       "      <td>28.627400</td>\n",
       "      <td>2636.036640</td>\n",
       "      <td>537.973104</td>\n",
       "      <td>1425.785822</td>\n",
       "      <td>499.615161</td>\n",
       "      <td>3.871190</td>\n",
       "      <td>206857.824239</td>\n",
       "    </tr>\n",
       "    <tr>\n",
       "      <th>std</th>\n",
       "      <td>2.003309</td>\n",
       "      <td>2.135938</td>\n",
       "      <td>12.578766</td>\n",
       "      <td>2181.812336</td>\n",
       "      <td>421.485694</td>\n",
       "      <td>1132.484600</td>\n",
       "      <td>382.380686</td>\n",
       "      <td>1.899747</td>\n",
       "      <td>115403.235750</td>\n",
       "    </tr>\n",
       "    <tr>\n",
       "      <th>min</th>\n",
       "      <td>-124.350000</td>\n",
       "      <td>32.540000</td>\n",
       "      <td>1.000000</td>\n",
       "      <td>2.000000</td>\n",
       "      <td>1.000000</td>\n",
       "      <td>3.000000</td>\n",
       "      <td>1.000000</td>\n",
       "      <td>0.499900</td>\n",
       "      <td>14999.000000</td>\n",
       "    </tr>\n",
       "    <tr>\n",
       "      <th>25%</th>\n",
       "      <td>-121.797500</td>\n",
       "      <td>33.930000</td>\n",
       "      <td>18.000000</td>\n",
       "      <td>1448.000000</td>\n",
       "      <td>296.000000</td>\n",
       "      <td>788.000000</td>\n",
       "      <td>280.000000</td>\n",
       "      <td>2.563975</td>\n",
       "      <td>119600.000000</td>\n",
       "    </tr>\n",
       "    <tr>\n",
       "      <th>50%</th>\n",
       "      <td>-118.490000</td>\n",
       "      <td>34.250000</td>\n",
       "      <td>29.000000</td>\n",
       "      <td>2127.000000</td>\n",
       "      <td>435.000000</td>\n",
       "      <td>1167.000000</td>\n",
       "      <td>409.000000</td>\n",
       "      <td>3.535250</td>\n",
       "      <td>179700.000000</td>\n",
       "    </tr>\n",
       "    <tr>\n",
       "      <th>75%</th>\n",
       "      <td>-118.010000</td>\n",
       "      <td>37.710000</td>\n",
       "      <td>37.000000</td>\n",
       "      <td>3148.000000</td>\n",
       "      <td>647.000000</td>\n",
       "      <td>1725.000000</td>\n",
       "      <td>605.000000</td>\n",
       "      <td>4.743775</td>\n",
       "      <td>264725.000000</td>\n",
       "    </tr>\n",
       "    <tr>\n",
       "      <th>max</th>\n",
       "      <td>-114.310000</td>\n",
       "      <td>41.950000</td>\n",
       "      <td>52.000000</td>\n",
       "      <td>39320.000000</td>\n",
       "      <td>6445.000000</td>\n",
       "      <td>35682.000000</td>\n",
       "      <td>6082.000000</td>\n",
       "      <td>15.000100</td>\n",
       "      <td>500001.000000</td>\n",
       "    </tr>\n",
       "  </tbody>\n",
       "</table>\n",
       "</div>"
      ],
      "text/plain": [
       "          longitude      latitude  housing_median_age   total_rooms  \\\n",
       "count  20634.000000  20622.000000        20628.000000  20633.000000   \n",
       "mean    -119.568930     35.629984           28.627400   2636.036640   \n",
       "std        2.003309      2.135938           12.578766   2181.812336   \n",
       "min     -124.350000     32.540000            1.000000      2.000000   \n",
       "25%     -121.797500     33.930000           18.000000   1448.000000   \n",
       "50%     -118.490000     34.250000           29.000000   2127.000000   \n",
       "75%     -118.010000     37.710000           37.000000   3148.000000   \n",
       "max     -114.310000     41.950000           52.000000  39320.000000   \n",
       "\n",
       "       total_bedrooms    population    households  median_income  \\\n",
       "count    20412.000000  20623.000000  20632.000000   20628.000000   \n",
       "mean       537.973104   1425.785822    499.615161       3.871190   \n",
       "std        421.485694   1132.484600    382.380686       1.899747   \n",
       "min          1.000000      3.000000      1.000000       0.499900   \n",
       "25%        296.000000    788.000000    280.000000       2.563975   \n",
       "50%        435.000000   1167.000000    409.000000       3.535250   \n",
       "75%        647.000000   1725.000000    605.000000       4.743775   \n",
       "max       6445.000000  35682.000000   6082.000000      15.000100   \n",
       "\n",
       "       median_house_value  \n",
       "count        20636.000000  \n",
       "mean        206857.824239  \n",
       "std         115403.235750  \n",
       "min          14999.000000  \n",
       "25%         119600.000000  \n",
       "50%         179700.000000  \n",
       "75%         264725.000000  \n",
       "max         500001.000000  "
      ]
     },
     "execution_count": 3,
     "metadata": {},
     "output_type": "execute_result"
    }
   ],
   "source": [
    "df.describe()"
   ]
  },
  {
   "cell_type": "markdown",
   "metadata": {},
   "source": [
    "# Explore Dataset"
   ]
  },
  {
   "cell_type": "code",
   "execution_count": 4,
   "metadata": {},
   "outputs": [
    {
     "data": {
      "text/plain": [
       "<AxesSubplot:ylabel='Frequency'>"
      ]
     },
     "execution_count": 4,
     "metadata": {},
     "output_type": "execute_result"
    },
    {
     "data": {
      "image/png": "[encoded data removed]",
      "text/plain": [
       "<Figure size 432x288 with 1 Axes>"
      ]
     },
     "metadata": {
      "needs_background": "light"
     },
     "output_type": "display_data"
    },
    {
     "data": {
      "image/png": "[encoded data removed]",
      "text/plain": [
       "<Figure size 432x288 with 1 Axes>"
      ]
     },
     "metadata": {
      "needs_background": "light"
     },
     "output_type": "display_data"
    },
    {
     "data": {
      "image/png": "[encoded data removed]",
      "text/plain": [
       "<Figure size 432x288 with 1 Axes>"
      ]
     },
     "metadata": {
      "needs_background": "light"
     },
     "output_type": "display_data"
    },
    {
     "data": {
      "image/png": "[encoded data removed]",
      "text/plain": [
       "<Figure size 432x288 with 1 Axes>"
      ]
     },
     "metadata": {
      "needs_background": "light"
     },
     "output_type": "display_data"
    }
   ],
   "source": [
    "df.boxplot(column=['total_rooms','total_bedrooms'])\n",
    "df.plot.scatter(x='longitude',y='latitude')\n",
    "df.plot.line(x='longitude',y='latitude')\n",
    "df.plot.hist(x='longitude',y='latitude')"
   ]
  },
  {
   "cell_type": "code",
   "execution_count": 5,
   "metadata": {},
   "outputs": [
    {
     "data": {
      "image/png": "[encoded data removed]",
      "text/plain": [
       "<Figure size 1440x1080 with 9 Axes>"
      ]
     },
     "metadata": {
      "needs_background": "light"
     },
     "output_type": "display_data"
    }
   ],
   "source": [
    "%matplotlib inline\n",
    "import matplotlib.pyplot as plt\n",
    "df.hist(bins=50, figsize=(20,15))\n",
    "plt.show()"
   ]
  },
  {
   "cell_type": "markdown",
   "metadata": {},
   "source": [
    "Recall: Machine learning algorithms perform better on Gaussian-like data distributions (also known as a bell curve). Observe features that are and are NOT Gaussian-like. \n",
    "- If data is Gaussian-like, use normalization: transforms data to values that sum to 1 using data min and max\n",
    "- If data is not Gaussian-like, use standarization: transforms data to Gaussian distribution (looks like a bell curve) with values that sum to 1 using data mean and standard deviation"
   ]
  },
  {
   "cell_type": "markdown",
   "metadata": {},
   "source": [
    "### Explore correlations"
   ]
  },
  {
   "cell_type": "code",
   "execution_count": 6,
   "metadata": {},
   "outputs": [
    {
     "data": {
      "image/png": "[encoded data removed]",
      "text/plain": [
       "<Figure size 864x576 with 4 Axes>"
      ]
     },
     "metadata": {
      "needs_background": "light"
     },
     "output_type": "display_data"
    }
   ],
   "source": [
    "from pandas.plotting import scatter_matrix\n",
    "import matplotlib.pyplot as plt\n",
    "\n",
    "features = ['total_bedrooms','housing_median_age']\n",
    "fig = scatter_matrix(df[features], figsize=(12, 8))\n",
    "plt.show(fig[0][0].get_figure())"
   ]
  },
  {
   "cell_type": "markdown",
   "metadata": {},
   "source": [
    "State the correlation magnitude and direction"
   ]
  },
  {
   "cell_type": "code",
   "execution_count": 7,
   "metadata": {},
   "outputs": [],
   "source": [
    "correlation = df[features].corr()"
   ]
  },
  {
   "cell_type": "code",
   "execution_count": 8,
   "metadata": {},
   "outputs": [
    {
     "name": "stdout",
     "output_type": "stream",
     "text": [
      "f1 and f2 are weakly correlation\n",
      "f1 and f2 are negativey correlation\n"
     ]
    }
   ],
   "source": [
    "from itertools import combinations\n",
    "\n",
    "cor_summary_statements=[]\n",
    "feature_pairs = combinations(features, 2)\n",
    "for f1, f2 in feature_pairs:\n",
    "    cor = correlation[f1][f2]\n",
    "    if(abs(cor) > 0.5):\n",
    "        print('f1 and f2 are strongly correlation')\n",
    "    else:\n",
    "        print('f1 and f2 are weakly correlation')\n",
    "        \n",
    "    if(cor < 0):\n",
    "        print('f1 and f2 are negativey correlation')\n",
    "    else:\n",
    "        print('f1 and f2 are positively correlation')"
   ]
  },
  {
   "cell_type": "markdown",
   "metadata": {},
   "source": [
    "# Preprocess Dataset"
   ]
  },
  {
   "cell_type": "markdown",
   "metadata": {},
   "source": [
    "### View data with missing values or invalid inputs"
   ]
  },
  {
   "cell_type": "code",
   "execution_count": 9,
   "metadata": {},
   "outputs": [
    {
     "name": "stdout",
     "output_type": "stream",
     "text": [
      "Number of categories with missing values: 10.00\n",
      "Average number of missing values per category: 33.00\n",
      "Total number of missing values: 330.00\n",
      "Top 3 categories with most missing values: ['total_bedrooms' 'ocean_proximity' 'latitude']\n"
     ]
    }
   ],
   "source": [
    "# Used for top categories with missing data\n",
    "top_n=3\n",
    "missing_column_counts = df[df.columns[df.isnull().any()]].isnull().sum()\n",
    "max_idxs = np.argsort(missing_column_counts.to_numpy())[::-1][:top_n]\n",
    "\n",
    "# Compute missing statistics\n",
    "num_categories = df.isna().any(axis=0).sum()\n",
    "average_per_category = df.isna().sum().sum()/len(df.columns)\n",
    "total_missing_values = df.isna().sum().sum()\n",
    "top_missing_categories = df.columns[max_idxs[:top_n]].to_numpy()\n",
    "    \n",
    "print('Number of categories with missing values: {0:.2f}'.format(num_categories))\n",
    "print('Average number of missing values per category: {0:.2f}'.format(average_per_category))\n",
    "print('Total number of missing values: {0:.2f}'.format(total_missing_values))\n",
    "print('Top {} categories with most missing values: {}'.format(top_n, top_missing_categories))"
   ]
  },
  {
   "cell_type": "markdown",
   "metadata": {},
   "source": [
    "### Remove irrelevant / useless features:"
   ]
  },
  {
   "cell_type": "code",
   "execution_count": 10,
   "metadata": {},
   "outputs": [
    {
     "name": "stdout",
     "output_type": "stream",
     "text": [
      "   longitude  latitude  housing_median_age  total_rooms  total_bedrooms  \\\n",
      "0    -122.23     37.88                41.0        880.0           129.0   \n",
      "1    -122.22     37.86                21.0       7099.0          1106.0   \n",
      "2    -122.24     37.85                52.0       1467.0           190.0   \n",
      "3    -122.25     37.85                52.0       1274.0           235.0   \n",
      "4    -122.25     37.85                52.0       1627.0           280.0   \n",
      "\n",
      "   population  households  median_income  median_house_value ocean_proximity  \n",
      "0       322.0       126.0         8.3252            452600.0        NEAR BAY  \n",
      "1      2401.0      1138.0         8.3014            358500.0        NEAR BAY  \n",
      "2       496.0       177.0         7.2574            352100.0        NEAR BAY  \n",
      "3       558.0       219.0         5.6431            341300.0        NEAR BAY  \n",
      "4       565.0       259.0         3.8462            342200.0             NaN  \n"
     ]
    },
    {
     "data": {
      "text/html": [
       "<div>\n",
       "<style scoped>\n",
       "    .dataframe tbody tr th:only-of-type {\n",
       "        vertical-align: middle;\n",
       "    }\n",
       "\n",
       "    .dataframe tbody tr th {\n",
       "        vertical-align: top;\n",
       "    }\n",
       "\n",
       "    .dataframe thead th {\n",
       "        text-align: right;\n",
       "    }\n",
       "</style>\n",
       "<table border=\"1\" class=\"dataframe\">\n",
       "  <thead>\n",
       "    <tr style=\"text-align: right;\">\n",
       "      <th></th>\n",
       "      <th>longitude</th>\n",
       "      <th>latitude</th>\n",
       "      <th>housing_median_age</th>\n",
       "      <th>total_rooms</th>\n",
       "      <th>total_bedrooms</th>\n",
       "      <th>population</th>\n",
       "      <th>median_income</th>\n",
       "      <th>median_house_value</th>\n",
       "      <th>ocean_proximity</th>\n",
       "    </tr>\n",
       "  </thead>\n",
       "  <tbody>\n",
       "    <tr>\n",
       "      <th>0</th>\n",
       "      <td>-122.23</td>\n",
       "      <td>37.88</td>\n",
       "      <td>41.0</td>\n",
       "      <td>880.0</td>\n",
       "      <td>129.0</td>\n",
       "      <td>322.0</td>\n",
       "      <td>8.3252</td>\n",
       "      <td>452600.0</td>\n",
       "      <td>NEAR BAY</td>\n",
       "    </tr>\n",
       "    <tr>\n",
       "      <th>1</th>\n",
       "      <td>-122.22</td>\n",
       "      <td>37.86</td>\n",
       "      <td>21.0</td>\n",
       "      <td>7099.0</td>\n",
       "      <td>1106.0</td>\n",
       "      <td>2401.0</td>\n",
       "      <td>8.3014</td>\n",
       "      <td>358500.0</td>\n",
       "      <td>NEAR BAY</td>\n",
       "    </tr>\n",
       "    <tr>\n",
       "      <th>2</th>\n",
       "      <td>-122.24</td>\n",
       "      <td>37.85</td>\n",
       "      <td>52.0</td>\n",
       "      <td>1467.0</td>\n",
       "      <td>190.0</td>\n",
       "      <td>496.0</td>\n",
       "      <td>7.2574</td>\n",
       "      <td>352100.0</td>\n",
       "      <td>NEAR BAY</td>\n",
       "    </tr>\n",
       "    <tr>\n",
       "      <th>3</th>\n",
       "      <td>-122.25</td>\n",
       "      <td>37.85</td>\n",
       "      <td>52.0</td>\n",
       "      <td>1274.0</td>\n",
       "      <td>235.0</td>\n",
       "      <td>558.0</td>\n",
       "      <td>5.6431</td>\n",
       "      <td>341300.0</td>\n",
       "      <td>NEAR BAY</td>\n",
       "    </tr>\n",
       "    <tr>\n",
       "      <th>4</th>\n",
       "      <td>-122.25</td>\n",
       "      <td>37.85</td>\n",
       "      <td>52.0</td>\n",
       "      <td>1627.0</td>\n",
       "      <td>280.0</td>\n",
       "      <td>565.0</td>\n",
       "      <td>3.8462</td>\n",
       "      <td>342200.0</td>\n",
       "      <td>NaN</td>\n",
       "    </tr>\n",
       "    <tr>\n",
       "      <th>...</th>\n",
       "      <td>...</td>\n",
       "      <td>...</td>\n",
       "      <td>...</td>\n",
       "      <td>...</td>\n",
       "      <td>...</td>\n",
       "      <td>...</td>\n",
       "      <td>...</td>\n",
       "      <td>...</td>\n",
       "      <td>...</td>\n",
       "    </tr>\n",
       "    <tr>\n",
       "      <th>20635</th>\n",
       "      <td>-121.09</td>\n",
       "      <td>39.48</td>\n",
       "      <td>25.0</td>\n",
       "      <td>1665.0</td>\n",
       "      <td>374.0</td>\n",
       "      <td>845.0</td>\n",
       "      <td>1.5603</td>\n",
       "      <td>78100.0</td>\n",
       "      <td>INLAND</td>\n",
       "    </tr>\n",
       "    <tr>\n",
       "      <th>20636</th>\n",
       "      <td>-121.21</td>\n",
       "      <td>39.49</td>\n",
       "      <td>18.0</td>\n",
       "      <td>697.0</td>\n",
       "      <td>150.0</td>\n",
       "      <td>356.0</td>\n",
       "      <td>2.5568</td>\n",
       "      <td>77100.0</td>\n",
       "      <td>INLAND</td>\n",
       "    </tr>\n",
       "    <tr>\n",
       "      <th>20637</th>\n",
       "      <td>-121.22</td>\n",
       "      <td>39.43</td>\n",
       "      <td>17.0</td>\n",
       "      <td>2254.0</td>\n",
       "      <td>485.0</td>\n",
       "      <td>1007.0</td>\n",
       "      <td>1.7000</td>\n",
       "      <td>92300.0</td>\n",
       "      <td>INLAND</td>\n",
       "    </tr>\n",
       "    <tr>\n",
       "      <th>20638</th>\n",
       "      <td>-121.32</td>\n",
       "      <td>39.43</td>\n",
       "      <td>18.0</td>\n",
       "      <td>1860.0</td>\n",
       "      <td>409.0</td>\n",
       "      <td>741.0</td>\n",
       "      <td>1.8672</td>\n",
       "      <td>84700.0</td>\n",
       "      <td>INLAND</td>\n",
       "    </tr>\n",
       "    <tr>\n",
       "      <th>20639</th>\n",
       "      <td>-121.24</td>\n",
       "      <td>39.37</td>\n",
       "      <td>16.0</td>\n",
       "      <td>2785.0</td>\n",
       "      <td>616.0</td>\n",
       "      <td>1387.0</td>\n",
       "      <td>2.3886</td>\n",
       "      <td>89400.0</td>\n",
       "      <td>INLAND</td>\n",
       "    </tr>\n",
       "  </tbody>\n",
       "</table>\n",
       "<p>20640 rows × 9 columns</p>\n",
       "</div>"
      ],
      "text/plain": [
       "       longitude  latitude  housing_median_age  total_rooms  total_bedrooms  \\\n",
       "0        -122.23     37.88                41.0        880.0           129.0   \n",
       "1        -122.22     37.86                21.0       7099.0          1106.0   \n",
       "2        -122.24     37.85                52.0       1467.0           190.0   \n",
       "3        -122.25     37.85                52.0       1274.0           235.0   \n",
       "4        -122.25     37.85                52.0       1627.0           280.0   \n",
       "...          ...       ...                 ...          ...             ...   \n",
       "20635    -121.09     39.48                25.0       1665.0           374.0   \n",
       "20636    -121.21     39.49                18.0        697.0           150.0   \n",
       "20637    -121.22     39.43                17.0       2254.0           485.0   \n",
       "20638    -121.32     39.43                18.0       1860.0           409.0   \n",
       "20639    -121.24     39.37                16.0       2785.0           616.0   \n",
       "\n",
       "       population  median_income  median_house_value ocean_proximity  \n",
       "0           322.0         8.3252            452600.0        NEAR BAY  \n",
       "1          2401.0         8.3014            358500.0        NEAR BAY  \n",
       "2           496.0         7.2574            352100.0        NEAR BAY  \n",
       "3           558.0         5.6431            341300.0        NEAR BAY  \n",
       "4           565.0         3.8462            342200.0             NaN  \n",
       "...           ...            ...                 ...             ...  \n",
       "20635       845.0         1.5603             78100.0          INLAND  \n",
       "20636       356.0         2.5568             77100.0          INLAND  \n",
       "20637      1007.0         1.7000             92300.0          INLAND  \n",
       "20638       741.0         1.8672             84700.0          INLAND  \n",
       "20639      1387.0         2.3886             89400.0          INLAND  \n",
       "\n",
       "[20640 rows x 9 columns]"
      ]
     },
     "execution_count": 10,
     "metadata": {},
     "output_type": "execute_result"
    }
   ],
   "source": [
    "print(df.head())\n",
    "remove_feature = ['households']\n",
    "df.drop(remove_feature, axis=1)"
   ]
  },
  {
   "cell_type": "markdown",
   "metadata": {},
   "source": [
    "### Remove NaN rows"
   ]
  },
  {
   "cell_type": "code",
   "execution_count": 11,
   "metadata": {},
   "outputs": [],
   "source": [
    "df.dropna(inplace=True)"
   ]
  },
  {
   "cell_type": "code",
   "execution_count": 12,
   "metadata": {},
   "outputs": [
    {
     "name": "stdout",
     "output_type": "stream",
     "text": [
      "   longitude  latitude  housing_median_age  total_rooms  total_bedrooms  \\\n",
      "0    -122.23     37.88                41.0        880.0           129.0   \n",
      "1    -122.22     37.86                21.0       7099.0          1106.0   \n",
      "2    -122.24     37.85                52.0       1467.0           190.0   \n",
      "3    -122.25     37.85                52.0       1274.0           235.0   \n",
      "6    -122.25     37.84                52.0       2535.0           489.0   \n",
      "\n",
      "   population  households  median_income  median_house_value ocean_proximity  \n",
      "0       322.0       126.0         8.3252            452600.0        NEAR BAY  \n",
      "1      2401.0      1138.0         8.3014            358500.0        NEAR BAY  \n",
      "2       496.0       177.0         7.2574            352100.0        NEAR BAY  \n",
      "3       558.0       219.0         5.6431            341300.0        NEAR BAY  \n",
      "6      1094.0       514.0         3.6591            299200.0        NEAR BAY  \n"
     ]
    }
   ],
   "source": [
    "# View updates to dataset\n",
    "print(df.head())"
   ]
  },
  {
   "cell_type": "markdown",
   "metadata": {},
   "source": [
    "### Remove Outliers"
   ]
  },
  {
   "cell_type": "code",
   "execution_count": 13,
   "metadata": {},
   "outputs": [
    {
     "data": {
      "text/plain": [
       "array([[<AxesSubplot:title={'center':'median_income'}>]], dtype=object)"
      ]
     },
     "execution_count": 13,
     "metadata": {},
     "output_type": "execute_result"
    },
    {
     "data": {
      "image/png": "[encoded data removed]",
      "text/plain": [
       "<Figure size 432x288 with 1 Axes>"
      ]
     },
     "metadata": {
      "needs_background": "light"
     },
     "output_type": "display_data"
    }
   ],
   "source": [
    "# Visualize data features\n",
    "df.hist('median_income')"
   ]
  },
  {
   "cell_type": "code",
   "execution_count": 14,
   "metadata": {},
   "outputs": [
    {
     "name": "stdout",
     "output_type": "stream",
     "text": [
      "The upper bound is 8.012424999999999\n",
      "The lower bound is -0.7031749999999994\n",
      "The number of outlier removed is 668\n"
     ]
    },
    {
     "data": {
      "text/plain": [
       "array([[<AxesSubplot:title={'center':'median_income'}>]], dtype=object)"
      ]
     },
     "execution_count": 14,
     "metadata": {},
     "output_type": "execute_result"
    },
    {
     "data": {
      "image/png": "[encoded data removed]",
      "text/plain": [
       "<Figure size 432x288 with 1 Axes>"
      ]
     },
     "metadata": {
      "needs_background": "light"
     },
     "output_type": "display_data"
    }
   ],
   "source": [
    "# Remove outliers\n",
    "feature = 'median_income'\n",
    "\n",
    "count = len(df)\n",
    "lower_bound=None\n",
    "upper_bound=None\n",
    "if(feature in df.columns):\n",
    "    Q1 = np.percentile(df[feature], 25, axis=0)\n",
    "    Q3 = np.percentile(df[feature], 75, axis=0)\n",
    "    IQR = Q3 - Q1\n",
    "    upper_bound = Q3 + 1.5*IQR\n",
    "    lower_bound = Q1 - 1.5*IQR\n",
    "    df = df[df[feature]>lower_bound]\n",
    "    df = df[df[feature]<upper_bound]\n",
    "count = count - len(df)\n",
    "print('The upper bound is {}'.format(upper_bound))\n",
    "print('The lower bound is {}'.format(lower_bound))\n",
    "print('The number of outlier removed is {}'.format(count))\n",
    "df.hist('median_income')"
   ]
  },
  {
   "cell_type": "markdown",
   "metadata": {},
   "source": [
    "### Handling Text and Categorical Attributes"
   ]
  },
  {
   "cell_type": "markdown",
   "metadata": {},
   "source": [
    "Let's preprocess categorical data starting with Integer encoding transforms categorical data to integers"
   ]
  },
  {
   "cell_type": "code",
   "execution_count": 15,
   "metadata": {},
   "outputs": [
    {
     "name": "stdout",
     "output_type": "stream",
     "text": [
      "2        NEAR BAY\n",
      "3        NEAR BAY\n",
      "6        NEAR BAY\n",
      "7        NEAR BAY\n",
      "8        NEAR BAY\n",
      "           ...   \n",
      "20635      INLAND\n",
      "20636      INLAND\n",
      "20637      INLAND\n",
      "20638      INLAND\n",
      "20639      INLAND\n",
      "Name: ocean_proximity, Length: 19664, dtype: object\n",
      "2        3.0\n",
      "3        3.0\n",
      "6        3.0\n",
      "7        3.0\n",
      "8        3.0\n",
      "        ... \n",
      "20635    1.0\n",
      "20636    1.0\n",
      "20637    1.0\n",
      "20638    1.0\n",
      "20639    1.0\n",
      "Name: ocean_proximity, Length: 19664, dtype: float64\n"
     ]
    }
   ],
   "source": [
    "from sklearn.preprocessing import OrdinalEncoder\n",
    "\n",
    "df_ = df.copy()\n",
    "print(df_['ocean_proximity']) # before encoding\n",
    "enc = OrdinalEncoder()\n",
    "df_[['ocean_proximity']] = enc.fit_transform(df_[['ocean_proximity']])\n",
    "print(df_['ocean_proximity']) # after encoding"
   ]
  },
  {
   "cell_type": "markdown",
   "metadata": {},
   "source": [
    "One-hot encoding transforms categorical data to n bits where a unique bit is set to 1 for each category"
   ]
  },
  {
   "cell_type": "code",
   "execution_count": 16,
   "metadata": {},
   "outputs": [
    {
     "name": "stdout",
     "output_type": "stream",
     "text": [
      "   longitude  latitude  housing_median_age  total_rooms  total_bedrooms  \\\n",
      "2    -122.24     37.85                52.0       1467.0           190.0   \n",
      "3    -122.25     37.85                52.0       1274.0           235.0   \n",
      "6    -122.25     37.84                52.0       2535.0           489.0   \n",
      "7    -122.25     37.84                52.0       3104.0           687.0   \n",
      "8    -122.26     37.84                42.0       2555.0           665.0   \n",
      "\n",
      "   population  households  median_income  median_house_value ocean_proximity  \n",
      "2       496.0       177.0         7.2574            352100.0        NEAR BAY  \n",
      "3       558.0       219.0         5.6431            341300.0        NEAR BAY  \n",
      "6      1094.0       514.0         3.6591            299200.0        NEAR BAY  \n",
      "7      1157.0       647.0         3.1200            241400.0        NEAR BAY  \n",
      "8      1206.0       595.0         2.0804            226700.0        NEAR BAY  \n",
      "   longitude  latitude  housing_median_age  total_rooms  total_bedrooms  \\\n",
      "2    -122.24     37.85                52.0       1467.0           190.0   \n",
      "3    -122.25     37.85                52.0       1274.0           235.0   \n",
      "6    -122.25     37.84                52.0       2535.0           489.0   \n",
      "7    -122.25     37.84                52.0       3104.0           687.0   \n",
      "8    -122.26     37.84                42.0       2555.0           665.0   \n",
      "\n",
      "   population  households  median_income  median_house_value  \\\n",
      "2       496.0       177.0         7.2574            352100.0   \n",
      "3       558.0       219.0         5.6431            341300.0   \n",
      "6      1094.0       514.0         3.6591            299200.0   \n",
      "7      1157.0       647.0         3.1200            241400.0   \n",
      "8      1206.0       595.0         2.0804            226700.0   \n",
      "\n",
      "   ocean_proximity_<1H OCEAN  ocean_proximity_INLAND  ocean_proximity_ISLAND  \\\n",
      "2                          0                       0                       0   \n",
      "3                          0                       0                       0   \n",
      "6                          0                       0                       0   \n",
      "7                          0                       0                       0   \n",
      "8                          0                       0                       0   \n",
      "\n",
      "   ocean_proximity_NEAR BAY  ocean_proximity_NEAR OCEAN  \n",
      "2                         1                           0  \n",
      "3                         1                           0  \n",
      "6                         1                           0  \n",
      "7                         1                           0  \n",
      "8                         1                           0  \n"
     ]
    }
   ],
   "source": [
    "print(df.head())\n",
    "df = pd.get_dummies(df, columns = ['ocean_proximity']) # one-hot encoding\n",
    "# View updates to dataset\n",
    "print(df.head())"
   ]
  },
  {
   "cell_type": "markdown",
   "metadata": {},
   "source": [
    "# Create some new features"
   ]
  },
  {
   "cell_type": "markdown",
   "metadata": {},
   "source": [
    "Although we often think of multiple regression as including multiple different features (e.g. # of bedrooms, squarefeet, and # of bathrooms) but we can also consider transformations of existing features e.g. the log of the squarefeet or even \"interaction\" features such as the product of bedrooms and bathrooms."
   ]
  },
  {
   "cell_type": "markdown",
   "metadata": {},
   "source": [
    "You will use the logarithm function to create a new feature. so first you should import it from the math library."
   ]
  },
  {
   "cell_type": "markdown",
   "metadata": {},
   "source": [
    "Next create the following new features as column in both TEST and TRAIN data:\n",
    "* total_rooms_squared = total_rooms\\*total_rooms\n",
    "* age_bath_rooms = housing_median_age\\*total_bedrooms\n",
    "As an example here's the first two:"
   ]
  },
  {
   "cell_type": "code",
   "execution_count": 17,
   "metadata": {},
   "outputs": [],
   "source": [
    "# bedrooms_squared = bedrooms*bedrooms\n",
    "df['total_rooms_squared'] = df['total_rooms'].apply(lambda x:x**2)\n",
    "\n",
    "# age_bathrooms = housing_age_bedrooms\n",
    "def multiply_data(value_1, value_2):\n",
    "    return value_1 * value_2\n",
    "\n",
    "df['age_bath_rooms'] = df.apply(lambda x: multiply_data(x['housing_median_age'],x['total_bedrooms']),axis=1)"
   ]
  },
  {
   "cell_type": "markdown",
   "metadata": {},
   "source": [
    "Create the following new features:\n",
    "* log_population = log(population)\n",
    "* lat_plus_long = lat + long \n",
    "* rooms_per_household = total_rooms/households\n",
    "* number_bedrooms = total_bedrooms/households\n",
    "* number_bathrooms = rooms_per_household - number_bedrooms\n",
    "* bedrooms_per_room = total_bedrooms/total_rooms\n",
    "* population_per_household = population/households\n",
    "* age_rooms_per_household = housing_median_age*rooms_per_household"
   ]
  },
  {
   "cell_type": "code",
   "execution_count": 18,
   "metadata": {},
   "outputs": [],
   "source": [
    "# Activity \n",
    "\n",
    "df['log_population'] = df['population'].apply(lambda x: np.log(x))\n",
    "\n",
    "def add_data(value_1, value_2):\n",
    "    return value_1 + value_2\n",
    "\n",
    "df['lat_plus_long'] = df.apply(lambda x: add_data(x['longitude'],x['latitude']),axis=1)\n",
    "\n",
    "df[\"rooms_per_household\"] = df[\"total_rooms\"]/df[\"households\"]\n",
    "\n",
    "df[\"number_bedrooms\"] = (df[\"total_bedrooms\"]/df[\"households\"]).apply(np.ceil)\n",
    "\n",
    "df[\"number_bathrooms\"] = (df[\"rooms_per_household\"] - df[\"number_bedrooms\"]).apply(np.ceil)\n",
    "\n",
    "df[\"bedrooms_per_room\"] = df[\"total_bedrooms\"]/df[\"total_rooms\"]\n",
    "\n",
    "df[\"population_per_household\"]=df[\"population\"]/df[\"households\"]\n",
    "\n",
    "df['age_rooms_per_household' ] = multiply_data(df['housing_median_age'],df['rooms_per_household'])\n",
    "print(df.head())"
   ]
  },
  {
   "cell_type": "code",
   "execution_count": 19,
   "metadata": {},
   "outputs": [
    {
     "data": {
      "image/png": "[encoded data removed]",
      "text/plain": [
       "<Figure size 1440x1080 with 16 Axes>"
      ]
     },
     "metadata": {
      "needs_background": "light"
     },
     "output_type": "display_data"
    }
   ],
   "source": [
    "%matplotlib inline\n",
    "import matplotlib.pyplot as plt\n",
    "df.hist(bins=50, figsize=(20,15))\n",
    "plt.show()"
   ]
  },
  {
   "cell_type": "code",
   "execution_count": 20,
   "metadata": {},
   "outputs": [
    {
     "ename": "KeyError",
     "evalue": "\"None of [Index(['number_bedrooms', 'number_bathrooms'], dtype='object')] are in the [columns]\"",
     "output_type": "error",
     "traceback": [
      "\u001b[0;31m---------------------------------------------------------------------------\u001b[0m",
      "\u001b[0;31mKeyError\u001b[0m                                  Traceback (most recent call last)",
      "\u001b[0;32m<ipython-input-20-fa5c724a10b3>\u001b[0m in \u001b[0;36m<module>\u001b[0;34m\u001b[0m\n\u001b[1;32m      1\u001b[0m \u001b[0mfeatures\u001b[0m \u001b[0;34m=\u001b[0m \u001b[0;34m[\u001b[0m\u001b[0;34m'number_bedrooms'\u001b[0m\u001b[0;34m,\u001b[0m\u001b[0;34m'number_bathrooms'\u001b[0m\u001b[0;34m]\u001b[0m\u001b[0;34m\u001b[0m\u001b[0;34m\u001b[0m\u001b[0m\n\u001b[0;32m----> 2\u001b[0;31m \u001b[0mfig\u001b[0m \u001b[0;34m=\u001b[0m \u001b[0mscatter_matrix\u001b[0m\u001b[0;34m(\u001b[0m\u001b[0mdf\u001b[0m\u001b[0;34m[\u001b[0m\u001b[0mfeatures\u001b[0m\u001b[0;34m]\u001b[0m\u001b[0;34m,\u001b[0m \u001b[0mfigsize\u001b[0m\u001b[0;34m=\u001b[0m\u001b[0;34m(\u001b[0m\u001b[0;36m6\u001b[0m\u001b[0;34m,\u001b[0m \u001b[0;36m4\u001b[0m\u001b[0;34m)\u001b[0m\u001b[0;34m)\u001b[0m\u001b[0;34m\u001b[0m\u001b[0;34m\u001b[0m\u001b[0m\n\u001b[0m\u001b[1;32m      3\u001b[0m \u001b[0mplt\u001b[0m\u001b[0;34m.\u001b[0m\u001b[0mshow\u001b[0m\u001b[0;34m(\u001b[0m\u001b[0mfig\u001b[0m\u001b[0;34m[\u001b[0m\u001b[0;36m0\u001b[0m\u001b[0;34m]\u001b[0m\u001b[0;34m[\u001b[0m\u001b[0;36m0\u001b[0m\u001b[0;34m]\u001b[0m\u001b[0;34m.\u001b[0m\u001b[0mget_figure\u001b[0m\u001b[0;34m(\u001b[0m\u001b[0;34m)\u001b[0m\u001b[0;34m)\u001b[0m\u001b[0;34m\u001b[0m\u001b[0;34m\u001b[0m\u001b[0m\n",
      "\u001b[0;32m~/opt/anaconda3/lib/python3.8/site-packages/pandas/core/frame.py\u001b[0m in \u001b[0;36m__getitem__\u001b[0;34m(self, key)\u001b[0m\n\u001b[1;32m   2906\u001b[0m             \u001b[0;32mif\u001b[0m \u001b[0mis_iterator\u001b[0m\u001b[0;34m(\u001b[0m\u001b[0mkey\u001b[0m\u001b[0;34m)\u001b[0m\u001b[0;34m:\u001b[0m\u001b[0;34m\u001b[0m\u001b[0;34m\u001b[0m\u001b[0m\n\u001b[1;32m   2907\u001b[0m                 \u001b[0mkey\u001b[0m \u001b[0;34m=\u001b[0m \u001b[0mlist\u001b[0m\u001b[0;34m(\u001b[0m\u001b[0mkey\u001b[0m\u001b[0;34m)\u001b[0m\u001b[0;34m\u001b[0m\u001b[0;34m\u001b[0m\u001b[0m\n\u001b[0;32m-> 2908\u001b[0;31m             \u001b[0mindexer\u001b[0m \u001b[0;34m=\u001b[0m \u001b[0mself\u001b[0m\u001b[0;34m.\u001b[0m\u001b[0mloc\u001b[0m\u001b[0;34m.\u001b[0m\u001b[0m_get_listlike_indexer\u001b[0m\u001b[0;34m(\u001b[0m\u001b[0mkey\u001b[0m\u001b[0;34m,\u001b[0m \u001b[0maxis\u001b[0m\u001b[0;34m=\u001b[0m\u001b[0;36m1\u001b[0m\u001b[0;34m,\u001b[0m \u001b[0mraise_missing\u001b[0m\u001b[0;34m=\u001b[0m\u001b[0;32mTrue\u001b[0m\u001b[0;34m)\u001b[0m\u001b[0;34m[\u001b[0m\u001b[0;36m1\u001b[0m\u001b[0;34m]\u001b[0m\u001b[0;34m\u001b[0m\u001b[0;34m\u001b[0m\u001b[0m\n\u001b[0m\u001b[1;32m   2909\u001b[0m \u001b[0;34m\u001b[0m\u001b[0m\n\u001b[1;32m   2910\u001b[0m         \u001b[0;31m# take() does not accept boolean indexers\u001b[0m\u001b[0;34m\u001b[0m\u001b[0;34m\u001b[0m\u001b[0;34m\u001b[0m\u001b[0m\n",
      "\u001b[0;32m~/opt/anaconda3/lib/python3.8/site-packages/pandas/core/indexing.py\u001b[0m in \u001b[0;36m_get_listlike_indexer\u001b[0;34m(self, key, axis, raise_missing)\u001b[0m\n\u001b[1;32m   1252\u001b[0m             \u001b[0mkeyarr\u001b[0m\u001b[0;34m,\u001b[0m \u001b[0mindexer\u001b[0m\u001b[0;34m,\u001b[0m \u001b[0mnew_indexer\u001b[0m \u001b[0;34m=\u001b[0m \u001b[0max\u001b[0m\u001b[0;34m.\u001b[0m\u001b[0m_reindex_non_unique\u001b[0m\u001b[0;34m(\u001b[0m\u001b[0mkeyarr\u001b[0m\u001b[0;34m)\u001b[0m\u001b[0;34m\u001b[0m\u001b[0;34m\u001b[0m\u001b[0m\n\u001b[1;32m   1253\u001b[0m \u001b[0;34m\u001b[0m\u001b[0m\n\u001b[0;32m-> 1254\u001b[0;31m         \u001b[0mself\u001b[0m\u001b[0;34m.\u001b[0m\u001b[0m_validate_read_indexer\u001b[0m\u001b[0;34m(\u001b[0m\u001b[0mkeyarr\u001b[0m\u001b[0;34m,\u001b[0m \u001b[0mindexer\u001b[0m\u001b[0;34m,\u001b[0m \u001b[0maxis\u001b[0m\u001b[0;34m,\u001b[0m \u001b[0mraise_missing\u001b[0m\u001b[0;34m=\u001b[0m\u001b[0mraise_missing\u001b[0m\u001b[0;34m)\u001b[0m\u001b[0;34m\u001b[0m\u001b[0;34m\u001b[0m\u001b[0m\n\u001b[0m\u001b[1;32m   1255\u001b[0m         \u001b[0;32mreturn\u001b[0m \u001b[0mkeyarr\u001b[0m\u001b[0;34m,\u001b[0m \u001b[0mindexer\u001b[0m\u001b[0;34m\u001b[0m\u001b[0;34m\u001b[0m\u001b[0m\n\u001b[1;32m   1256\u001b[0m \u001b[0;34m\u001b[0m\u001b[0m\n",
      "\u001b[0;32m~/opt/anaconda3/lib/python3.8/site-packages/pandas/core/indexing.py\u001b[0m in \u001b[0;36m_validate_read_indexer\u001b[0;34m(self, key, indexer, axis, raise_missing)\u001b[0m\n\u001b[1;32m   1296\u001b[0m             \u001b[0;32mif\u001b[0m \u001b[0mmissing\u001b[0m \u001b[0;34m==\u001b[0m \u001b[0mlen\u001b[0m\u001b[0;34m(\u001b[0m\u001b[0mindexer\u001b[0m\u001b[0;34m)\u001b[0m\u001b[0;34m:\u001b[0m\u001b[0;34m\u001b[0m\u001b[0;34m\u001b[0m\u001b[0m\n\u001b[1;32m   1297\u001b[0m                 \u001b[0maxis_name\u001b[0m \u001b[0;34m=\u001b[0m \u001b[0mself\u001b[0m\u001b[0;34m.\u001b[0m\u001b[0mobj\u001b[0m\u001b[0;34m.\u001b[0m\u001b[0m_get_axis_name\u001b[0m\u001b[0;34m(\u001b[0m\u001b[0maxis\u001b[0m\u001b[0;34m)\u001b[0m\u001b[0;34m\u001b[0m\u001b[0;34m\u001b[0m\u001b[0m\n\u001b[0;32m-> 1298\u001b[0;31m                 \u001b[0;32mraise\u001b[0m \u001b[0mKeyError\u001b[0m\u001b[0;34m(\u001b[0m\u001b[0;34mf\"None of [{key}] are in the [{axis_name}]\"\u001b[0m\u001b[0;34m)\u001b[0m\u001b[0;34m\u001b[0m\u001b[0;34m\u001b[0m\u001b[0m\n\u001b[0m\u001b[1;32m   1299\u001b[0m \u001b[0;34m\u001b[0m\u001b[0m\n\u001b[1;32m   1300\u001b[0m             \u001b[0;31m# We (temporarily) allow for some missing keys with .loc, except in\u001b[0m\u001b[0;34m\u001b[0m\u001b[0;34m\u001b[0m\u001b[0;34m\u001b[0m\u001b[0m\n",
      "\u001b[0;31mKeyError\u001b[0m: \"None of [Index(['number_bedrooms', 'number_bathrooms'], dtype='object')] are in the [columns]\""
     ]
    }
   ],
   "source": [
    "features = ['number_bedrooms','number_bathrooms']\n",
    "fig = scatter_matrix(df[features], figsize=(6, 4))\n",
    "plt.show(fig[0][0].get_figure())"
   ]
  },
  {
   "cell_type": "markdown",
   "metadata": {},
   "source": [
    "Select input/output for regression"
   ]
  },
  {
   "cell_type": "code",
   "execution_count": null,
   "metadata": {},
   "outputs": [],
   "source": [
    "X, y = df.loc[:, ~df.columns.isin(['median_house_value'])], df.loc[:, df.columns.isin(['median_house_value'])]"
   ]
  },
  {
   "cell_type": "markdown",
   "metadata": {},
   "source": [
    "Split data into train and test sets using train_test_split to randomly shuffle the data"
   ]
  },
  {
   "cell_type": "code",
   "execution_count": null,
   "metadata": {},
   "outputs": [],
   "source": [
    "X_train, X_test, y_train, y_test = train_test_split(X, y, test_size=0.33, random_state=42)"
   ]
  },
  {
   "cell_type": "code",
   "execution_count": null,
   "metadata": {},
   "outputs": [],
   "source": [
    "X_train.shape, X_test.shape, y_train.shape, y_test.shape"
   ]
  },
  {
   "cell_type": "markdown",
   "metadata": {},
   "source": [
    "# Training Regression Models"
   ]
  },
  {
   "cell_type": "markdown",
   "metadata": {},
   "source": [
    "## Evaluation Metrics"
   ]
  },
  {
   "cell_type": "markdown",
   "metadata": {},
   "source": [
    "Compute RMSA, MAE, and R2 on actual and predicted housing prices"
   ]
  },
  {
   "cell_type": "code",
   "execution_count": null,
   "metadata": {},
   "outputs": [],
   "source": [
    "from sklearn.metrics import mean_squared_error, r2_score, mean_absolute_error\n",
    "\n",
    "def print_info(mode, y_true, y_pred, print_results=True):\n",
    "    rmse = np.sqrt(mean_squared_error(y_true, y_pred, squared=False))\n",
    "    mae = mean_absolute_error(y_true, y_pred)\n",
    "    r2 = r2_score(y_true, y_pred)\n",
    "    if(print_results):\n",
    "        print(mode + \": RMSE: {0}, MAE: {1}, R2: {2}\".format(rmse,mae,r2))\n",
    "    return rmse, mae, r2"
   ]
  },
  {
   "cell_type": "markdown",
   "metadata": {},
   "source": [
    "Compute evaluation metrics on training and validation sets. Note: directly compute RMSE directly by calling the mean_squared_error() function with squared=False."
   ]
  },
  {
   "cell_type": "code",
   "execution_count": null,
   "metadata": {},
   "outputs": [],
   "source": [
    "X_train, X_val, y_train, y_val = train_test_split(X, y, test_size=0.2, random_state=10)\n",
    "\n",
    "from sklearn.model_selection import train_test_split\n",
    "\n",
    "def plot_learning_curves(model, X_train, y_train):\n",
    "    train_rmse_errors, train_mae_errors, train_r2_errors = [], [], []\n",
    "    val_rmse_errors, val_mae_errors, val_r2_errors = [], [], []\n",
    "    for m in range(1, len(X_train) + 1, 15):\n",
    "        model.fit(X_train[:m], y_train[:m])\n",
    "        y_train_predict = model.predict(X_train[:m])\n",
    "        y_val_predict = model.predict(X_val)\n",
    "        \n",
    "        train_rmse, train_mae, train_r2 = print_info(\"test\", y_train[:m], y_train_predict, print_results=False)\n",
    "        train_rmse_errors.append(train_rmse)\n",
    "        train_mae_errors.append(train_mae)\n",
    "        train_r2_errors.append(train_r2)\n",
    "        \n",
    "        val_rmse, val_mae, val_r2 = print_info(\"test\", y_val, y_val_predict, print_results=False)\n",
    "        val_rmse_errors.append(val_rmse)\n",
    "        val_mae_errors.append(val_mae)\n",
    "        val_r2_errors.append(val_r2)\n",
    "    result = {'train_rmse_errors':train_rmse_errors, \n",
    "           'train_mae_errors':train_mae_errors, \n",
    "           'train_r2_errors':train_r2_errors, \n",
    "           'val_rmse_errors':val_rmse_errors, \n",
    "           'val_mae_errors':val_mae_errors, \n",
    "           'val_r2_errors':val_r2_errors}\n",
    "    return result "
   ]
  },
  {
   "cell_type": "markdown",
   "metadata": {},
   "source": [
    "Plot learning curves on training and validation datasets"
   ]
  },
  {
   "cell_type": "code",
   "execution_count": null,
   "metadata": {},
   "outputs": [],
   "source": [
    "def plot_lc_figures(error1, error2, metric=''):\n",
    "    plt.plot(error1, \"r-+\", linewidth=2, label=\"train\")\n",
    "    plt.plot(error2, \"b-\", linewidth=3, label=\"val\")\n",
    "    plt.legend(loc=\"upper right\", fontsize=14)   # not shown in the book\n",
    "    plt.xlabel(\"Training set size\", fontsize=14) # not shown\n",
    "    plt.ylabel(str(metric).upper(), fontsize=14)              # not shown"
   ]
  },
  {
   "cell_type": "markdown",
   "metadata": {},
   "source": [
    "## Learning Single Models "
   ]
  },
  {
   "cell_type": "markdown",
   "metadata": {},
   "source": [
    "Train a simple liinear regression model using total_rooms to predict housing prices"
   ]
  },
  {
   "cell_type": "code",
   "execution_count": null,
   "metadata": {},
   "outputs": [],
   "source": [
    "from sklearn.linear_model import LinearRegression\n",
    "\n",
    "single_reg_feature = ['total_rooms']\n",
    "single_reg_model = LinearRegression().fit(X_train[single_reg_feature], y_train)"
   ]
  },
  {
   "cell_type": "markdown",
   "metadata": {},
   "source": [
    "Now that you trained a model, evaluate the model on training data"
   ]
  },
  {
   "cell_type": "code",
   "execution_count": null,
   "metadata": {},
   "outputs": [],
   "source": [
    "single_reg_train_pred = single_reg_model.predict(X_train[single_reg_feature])\n",
    "print_info(\"train\", y_train, single_reg_train_pred)"
   ]
  },
  {
   "cell_type": "code",
   "execution_count": null,
   "metadata": {},
   "outputs": [],
   "source": [
    "plt.plot(X_train[single_reg_feature], y_train, '.',\n",
    "         X_train[single_reg_feature], single_reg_model.predict(X_train[single_reg_feature]), '-')"
   ]
  },
  {
   "cell_type": "markdown",
   "metadata": {},
   "source": [
    "Now that you trained a model, evaluate the model on test data"
   ]
  },
  {
   "cell_type": "code",
   "execution_count": null,
   "metadata": {},
   "outputs": [],
   "source": [
    "single_reg_test_pred = single_reg_model.predict(X_test[single_reg_feature])\n",
    "print_info(\"test\", y_test, single_reg_test_pred)"
   ]
  },
  {
   "cell_type": "code",
   "execution_count": null,
   "metadata": {},
   "outputs": [],
   "source": [
    "plt.plot(X_test[single_reg_feature], y_test, '.',\n",
    "         X_test[single_reg_feature], single_reg_model.predict(X_test[single_reg_feature]), '-')"
   ]
  },
  {
   "cell_type": "markdown",
   "metadata": {},
   "source": [
    "Now that we have fitted the model we can inspect the regression weights (coefficients) as follows:"
   ]
  },
  {
   "cell_type": "code",
   "execution_count": null,
   "metadata": {},
   "outputs": [],
   "source": [
    "# Inspect coefficients\n",
    "print(single_reg_model.coef_)\n",
    "print(single_reg_model.intercept_)"
   ]
  },
  {
   "cell_type": "markdown",
   "metadata": {},
   "source": [
    "## Learning Multiple Models "
   ]
  },
  {
   "cell_type": "markdown",
   "metadata": {},
   "source": [
    "Now that you have the features, learn the weights for the three different models for predicting median_house_value using multiple regression, test the model, and look at the value of the weights/coefficients:"
   ]
  },
  {
   "cell_type": "code",
   "execution_count": null,
   "metadata": {},
   "outputs": [],
   "source": [
    "multiple_reg_features = ['bedrooms_per_room','rooms_per_household']\n",
    "multiple_reg_model = LinearRegression().fit(X_train[multiple_reg_features], y_train)"
   ]
  },
  {
   "cell_type": "markdown",
   "metadata": {},
   "source": [
    "Now that you have trained the model, let's explore model performance on the training data."
   ]
  },
  {
   "cell_type": "code",
   "execution_count": null,
   "metadata": {},
   "outputs": [],
   "source": [
    "multiple_reg_train_pred = multiple_reg_model.predict(X_train[multiple_reg_features])\n",
    "print_info(\"train\", y_train, multiple_reg_train_pred)"
   ]
  },
  {
   "cell_type": "markdown",
   "metadata": {},
   "source": [
    "Now that you have evaluated the model on the training data, let's explore how the model generalizes to new examples."
   ]
  },
  {
   "cell_type": "code",
   "execution_count": null,
   "metadata": {},
   "outputs": [],
   "source": [
    "multiple_reg_test_pred = multiple_reg_model.predict(X_test[multiple_reg_features])\n",
    "print_info(\"test\", y_test, multiple_reg_test_pred)"
   ]
  },
  {
   "cell_type": "markdown",
   "metadata": {},
   "source": [
    "Now that we have fitted the model we can extract the regression weights (coefficients) as follows:"
   ]
  },
  {
   "cell_type": "code",
   "execution_count": null,
   "metadata": {},
   "outputs": [],
   "source": [
    "# Inspect coefficients\n",
    "print(multiple_reg_model.coef_)\n",
    "print(multiple_reg_model.intercept_)"
   ]
  },
  {
   "cell_type": "code",
   "execution_count": null,
   "metadata": {},
   "outputs": [],
   "source": [
    "errors  = plot_learning_curves(multiple_reg_model, X_train, y_train)\n",
    "#plot_lc_figures(errors['train_rmse_errors'], errors['val_rmse_errors'], metric='')\n",
    "plot_lc_figures(errors['train_rmse_errors'][400:], errors['val_rmse_errors'][400:], metric='') # zoom in"
   ]
  },
  {
   "cell_type": "code",
   "execution_count": null,
   "metadata": {},
   "outputs": [],
   "source": [
    "plot_lc_figures(errors['train_mae_errors'][400:], errors['val_mae_errors'][400:], metric='MAE')"
   ]
  },
  {
   "cell_type": "code",
   "execution_count": null,
   "metadata": {},
   "outputs": [],
   "source": [
    "plot_lc_figures(errors['train_r2_errors'], errors['val_r2_errors'], metric='MAE')"
   ]
  },
  {
   "cell_type": "markdown",
   "metadata": {},
   "source": [
    "# Learning Multiple Models"
   ]
  },
  {
   "cell_type": "markdown",
   "metadata": {},
   "source": [
    "Now we will learn the weights for three (nested) models for predicting house prices. The first model will have the fewest features the second model will add one more feature and the third will add a few more:\n",
    "* Model 1: 'total_rooms_squared', 'rooms_per_household', 'latitude', 'longitude'\n",
    "* Model 2: add 'age_rooms_per_household', 'log_population'\n",
    "* Model 3: Add 'median_income', 'lat_plus_long','bedrooms_per_room','population_per_household'"
   ]
  },
  {
   "cell_type": "code",
   "execution_count": null,
   "metadata": {},
   "outputs": [],
   "source": [
    "model_1_features = ['total_rooms_squared', 'rooms_per_household', 'latitude', 'longitude']\n",
    "model_2_features = model_1_features + ['age_rooms_per_household', 'log_population']\n",
    "model_3_features = model_2_features + ['median_income', 'lat_plus_long','bedrooms_per_room','population_per_household']"
   ]
  },
  {
   "cell_type": "markdown",
   "metadata": {},
   "source": [
    "Notes: \n",
    "* Squaring rooms_per_household will increase the separation between not many rooms (e.g. 1) and lots of rooms (e.g. 4) since 1^2 = 1 but 4^2 = 16. Consequently this feature will mostly affect houses with many rooms per household.\n",
    "* House age times rooms_per_household gives what's called an \"interaction\" feature. It is large when *both* of them are large.\n",
    "* Taking the log of population has the effect of bringing large values closer together and spreading out small values.\n",
    "* Adding latitude to longitude is totally non-sensical but we will do it anyway (you'll see why)"
   ]
  },
  {
   "cell_type": "code",
   "execution_count": null,
   "metadata": {},
   "outputs": [],
   "source": [
    "# Activity: Fit three models"
   ]
  },
  {
   "cell_type": "code",
   "execution_count": null,
   "metadata": {},
   "outputs": [],
   "source": [
    "# Activity: Evaluate models"
   ]
  },
  {
   "cell_type": "code",
   "execution_count": null,
   "metadata": {},
   "outputs": [],
   "source": [
    "# Activity: Examine/extract each model's coefficients:"
   ]
  },
  {
   "cell_type": "markdown",
   "metadata": {},
   "source": [
    "**Discussion Question: What is the sign (positive or negative) for the coefficient/weight for 'rooms_per_household' in model 1?**\n",
    "\n",
    "**Discussion Question: What is the sign (positive or negative) for the coefficient/weight for 'rooms_per_household' in model 2?**\n",
    "\n",
    "Think about what this means."
   ]
  },
  {
   "cell_type": "markdown",
   "metadata": {},
   "source": [
    "Use your functions from earlier to compute the RMSE, MAE, and R2 score on TRAINING Data for each of the three models."
   ]
  },
  {
   "cell_type": "code",
   "execution_count": null,
   "metadata": {},
   "outputs": [],
   "source": [
    "# Activity: Evaluate models on training data"
   ]
  },
  {
   "cell_type": "markdown",
   "metadata": {},
   "source": [
    "**Discussion Question: Which model (1, 2 or 3) has lowest RMSE, MAE, and R2 score  on TRAINING Data?** Is this what you expected?"
   ]
  },
  {
   "cell_type": "markdown",
   "metadata": {},
   "source": [
    "Now compute the RMSE, MAE, and R2 on on TEST data for each of the three models."
   ]
  },
  {
   "cell_type": "code",
   "execution_count": null,
   "metadata": {},
   "outputs": [],
   "source": [
    "# Activity: Evaluate models on test data"
   ]
  },
  {
   "cell_type": "markdown",
   "metadata": {},
   "source": [
    "**Discusson Question: Which model (1, 2 or 3) has lowest RMSE, MAE, and R2 on TESTING Data?** Is this what you expected? Think about the features that were added to each model from the previous."
   ]
  },
  {
   "cell_type": "markdown",
   "metadata": {},
   "source": [
    "## Learning Polynomial Models "
   ]
  },
  {
   "cell_type": "code",
   "execution_count": null,
   "metadata": {},
   "outputs": [],
   "source": [
    "from sklearn.preprocessing import PolynomialFeatures"
   ]
  },
  {
   "cell_type": "markdown",
   "metadata": {},
   "source": [
    "There are two options for training regression models. \n",
    "- Option 1: Step by step: normalize or standardize features, compute the squared polynomial on the features\n",
    "- Option 2: Use a Transformation pipeline to perform Option 1 in one step"
   ]
  },
  {
   "cell_type": "code",
   "execution_count": null,
   "metadata": {},
   "outputs": [],
   "source": [
    "# Option 1\n",
    "\n",
    "# Scale features between 0 and 1\n",
    "scaler = StandardScaler()\n",
    "X_train_scaler = scaler.fit_transform(X_train)\n",
    "X_test_scaler = scaler.fit_transform(X_test)\n",
    "\n",
    "# Create polynomial features --> features^2\n",
    "poly_features = PolynomialFeatures(degree=3, include_bias=False)\n",
    "\n",
    "# Transform scaled, polynomial features\n",
    "X_poly_train = poly_features.fit_transform(X_train_scaler)\n",
    "X_poly_test = poly_features.transform(X_test_scaler)\n",
    "\n",
    "# Fit the model to data\n",
    "poly_reg_model = LinearRegression().fit(X_poly_train, y_train)"
   ]
  },
  {
   "cell_type": "code",
   "execution_count": null,
   "metadata": {},
   "outputs": [],
   "source": [
    "# Option 2\n",
    "\n",
    "'''poly_reg_model = Pipeline([('scaler', StandardScaler()), \n",
    "                           ('poly', PolynomialFeatures(degree=3, include_bias=False)), \n",
    "                           ('polyReg', LinearRegression())])\n",
    "poly_reg_model.fit(X_train, y_train)'''"
   ]
  },
  {
   "cell_type": "markdown",
   "metadata": {},
   "source": [
    "Now that you have the features, learn the weights for the three different models for predicting median_house_value using polynomial regression, test the model, and look at the value of the weights/coefficients:"
   ]
  },
  {
   "cell_type": "code",
   "execution_count": null,
   "metadata": {},
   "outputs": [],
   "source": [
    "poly_reg_train_pred = poly_reg_model.predict(X_poly_train)\n",
    "print_info(\"train\", y_train, poly_reg_train_pred)"
   ]
  },
  {
   "cell_type": "markdown",
   "metadata": {},
   "source": [
    "Now that you have evlauated the model on the training data, let's explore how the model generalizes to new examples."
   ]
  },
  {
   "cell_type": "code",
   "execution_count": null,
   "metadata": {},
   "outputs": [],
   "source": [
    "poly_reg_test_pred = poly_reg_model.predict(X_poly_test)\n",
    "print_info(\"test\", y_test, poly_reg_test_pred)"
   ]
  },
  {
   "cell_type": "markdown",
   "metadata": {},
   "source": [
    "Now that we have fitted the model we can extract the regression weights (coefficients) as follows:"
   ]
  },
  {
   "cell_type": "code",
   "execution_count": null,
   "metadata": {},
   "outputs": [],
   "source": [
    "# Inspect coefficients\n",
    "print(poly_reg_model.coef_)\n",
    "print(poly_reg_model.intercept_)"
   ]
  },
  {
   "cell_type": "code",
   "execution_count": null,
   "metadata": {},
   "outputs": [],
   "source": [
    "errors = plot_learning_curves(poly_reg_model, X_train, y_train)"
   ]
  },
  {
   "cell_type": "code",
   "execution_count": null,
   "metadata": {},
   "outputs": [],
   "source": [
    "plot_lc_figures(errors['train_rmse_errors'][300:], errors['val_rmse_errors'][300:], metric='RMSE')"
   ]
  },
  {
   "cell_type": "code",
   "execution_count": null,
   "metadata": {},
   "outputs": [],
   "source": [
    "plot_lc_figures(errors['train_mae_errors'], errors['val_mae_errors'], metric='MAE')"
   ]
  },
  {
   "cell_type": "code",
   "execution_count": null,
   "metadata": {},
   "outputs": [],
   "source": [
    "plot_lc_figures(errors['train_r2_errors'], errors['val_r2_errors'], metric='R2')"
   ]
  },
  {
   "cell_type": "markdown",
   "metadata": {},
   "source": [
    "Next, write a loop that does the following:\n",
    "* For degree in [1, 2, 3, 4])\n",
    "    * Create a series of features with increasing degree of polynomial x^1, x^2 what x is the \n",
    "    * Train a polynomial regression model\n",
    "    * Learn a polynomial regression model to total_rooms vs price with that degree on TRAIN data"
   ]
  },
  {
   "cell_type": "code",
   "execution_count": null,
   "metadata": {},
   "outputs": [],
   "source": [
    "# Activity \n",
    "# Option 1: Poly Features -> Linear Regression"
   ]
  },
  {
   "cell_type": "code",
   "execution_count": null,
   "metadata": {},
   "outputs": [],
   "source": [
    "# Activity \n",
    "# Option 2: Transformation pipeline"
   ]
  },
  {
   "cell_type": "markdown",
   "metadata": {},
   "source": [
    "* Report which degree had the lowest RMSE, MAE, R2 on validation data"
   ]
  },
  {
   "cell_type": "markdown",
   "metadata": {},
   "source": [
    "# Learning Ridge Regression Models"
   ]
  },
  {
   "cell_type": "markdown",
   "metadata": {},
   "source": [
    "Recall that ridge regression model solves uses a loss function with a linear least squares function and regularization is given by the l2-norm. Its useful for shrinking model coefficients for features that are not useful for model prediction. "
   ]
  },
  {
   "cell_type": "code",
   "execution_count": null,
   "metadata": {},
   "outputs": [],
   "source": [
    "from sklearn.linear_model import Ridge"
   ]
  },
  {
   "cell_type": "markdown",
   "metadata": {},
   "source": [
    "Use closed form solution to compute ridge coefficients, solver=\"cholesky\""
   ]
  },
  {
   "cell_type": "code",
   "execution_count": null,
   "metadata": {},
   "outputs": [],
   "source": [
    "ridge_model = Ridge(alpha=1, solver=\"cholesky\", random_state=42)\n",
    "ridge_model.fit(X_train, y_train)\n",
    "ridge_reg_train_pred = ridge_model.predict(X_train)\n",
    "print_info(\"train\", y_train, ridge_reg_train_pred)"
   ]
  },
  {
   "cell_type": "code",
   "execution_count": null,
   "metadata": {},
   "outputs": [],
   "source": [
    "# Inspect coefficents\n",
    "print('The ridge coefficients of cholesky is: {}'.format(ridge_model.coef_))\n",
    "print('The ridge intercept of cholesky is: {}'.format(ridge_model.intercept_))"
   ]
  },
  {
   "cell_type": "markdown",
   "metadata": {},
   "source": [
    "Use least squares solution to compute ridge coefficients, solver=\"lsqr\". Observe the change in performance. Does it go down or up?"
   ]
  },
  {
   "cell_type": "code",
   "execution_count": null,
   "metadata": {},
   "outputs": [],
   "source": [
    "ridge_model = Ridge(alpha=1, solver=\"lsqr\", random_state=42)\n",
    "ridge_model.fit(X_train, y_train)\n",
    "ridge_reg_train_pred = ridge_model.predict(X_train)\n",
    "print_info(\"train\", y_train, ridge_reg_train_pred)"
   ]
  },
  {
   "cell_type": "code",
   "execution_count": null,
   "metadata": {},
   "outputs": [],
   "source": [
    "# Inspect coefficents\n",
    "print('The ridge coefficients of lsqr is: {}'.format(ridge_model.coef_))\n",
    "print('The ridge intercept of lsqr is: {}'.format(ridge_model.intercept_))"
   ]
  },
  {
   "cell_type": "markdown",
   "metadata": {},
   "source": [
    "### Cross Validation for regularization parameter search "
   ]
  },
  {
   "cell_type": "markdown",
   "metadata": {},
   "source": [
    "### Cross validation option 1"
   ]
  },
  {
   "cell_type": "code",
   "execution_count": null,
   "metadata": {},
   "outputs": [],
   "source": [
    "from sklearn.model_selection import RepeatedKFold\n",
    "from sklearn.model_selection import cross_val_score\n",
    "#from numpy import absolute"
   ]
  },
  {
   "cell_type": "markdown",
   "metadata": {},
   "source": [
    "Define lasso hyperparameters"
   ]
  },
  {
   "cell_type": "code",
   "execution_count": null,
   "metadata": {},
   "outputs": [],
   "source": [
    "n_splits=5\n",
    "n_repeats=3\n",
    "scoring='neg_mean_absolute_error' # neg_mean_squared_error for RMSE, 'r2' for R2 score\n",
    "\n",
    "# evaluation method\n",
    "ridge_cv = RepeatedKFold(n_splits=n_splits, n_repeats=n_repeats, random_state=1)"
   ]
  },
  {
   "cell_type": "code",
   "execution_count": null,
   "metadata": {},
   "outputs": [],
   "source": [
    "# define model\n",
    "ridge_model = Ridge(alpha=1.0)\n",
    "\n",
    "# evaluate model\n",
    "scores = cross_val_score(ridge_model, X_train, y_train, scoring=scoring, cv=ridge_cv, n_jobs=-1)\n",
    "\n",
    "# force scores to be positive\n",
    "scores = abs(scores)\n",
    "print('Mean MAE: %.3f (%.3f)' % (np.mean(scores), np.std(scores)))\n",
    "\n",
    "# fit model\n",
    "ridge_model.fit(X_train, y_train)\n",
    "ridge_reg_train_pred = ridge_model.predict(X_train)\n",
    "print_info(\"train\", y_train, ridge_reg_train_pred)"
   ]
  },
  {
   "cell_type": "code",
   "execution_count": null,
   "metadata": {},
   "outputs": [],
   "source": [
    "# Inspect coefficents\n",
    "print('The ridge coefficients are: {}'.format(ridge_model.coef_))\n",
    "print('The ridge intercept is: {}'.format(ridge_model.intercept_))"
   ]
  },
  {
   "cell_type": "markdown",
   "metadata": {},
   "source": [
    "### Cross validation option 2 - Parameter search"
   ]
  },
  {
   "cell_type": "code",
   "execution_count": null,
   "metadata": {},
   "outputs": [],
   "source": [
    "from sklearn.model_selection import GridSearchCV"
   ]
  },
  {
   "cell_type": "markdown",
   "metadata": {},
   "source": [
    "Set ridge parameters:\n",
    "- alpha: controls regularization strength. Decide how much to penalize feature weights\n",
    "- solver: method used for solving for regularization parameter"
   ]
  },
  {
   "cell_type": "code",
   "execution_count": null,
   "metadata": {},
   "outputs": [],
   "source": [
    "ridge_params = {\n",
    "  'alpha': [1, 0.5, 0.1], #[1e-5, 1e-4, 1e-3, 1e-2, 1e-1, 1, 10, 100]\n",
    "  'solver': ['cholesky', 'sag']\n",
    "}"
   ]
  },
  {
   "cell_type": "markdown",
   "metadata": {},
   "source": [
    "Train a ridge regression model with l2 norm regularization."
   ]
  },
  {
   "cell_type": "code",
   "execution_count": null,
   "metadata": {},
   "outputs": [],
   "source": [
    "ridge_cv_grid = GridSearchCV(estimator=Ridge(), \n",
    "                        param_grid=ridge_params, \n",
    "                        cv=ridge_cv)\n",
    "ridge_cv_grid.fit(X_train, y_train)"
   ]
  },
  {
   "cell_type": "markdown",
   "metadata": {},
   "source": [
    "Now, evaluate the model on the training data"
   ]
  },
  {
   "cell_type": "code",
   "execution_count": null,
   "metadata": {},
   "outputs": [],
   "source": [
    "ridge_reg_train_pred = ridge_cv_grid.predict(X_train)\n",
    "print_info(\"train\", y_train, ridge_reg_train_pred)"
   ]
  },
  {
   "cell_type": "markdown",
   "metadata": {},
   "source": [
    "Now, evaluate the model on the test data"
   ]
  },
  {
   "cell_type": "code",
   "execution_count": null,
   "metadata": {},
   "outputs": [],
   "source": [
    "ridge_reg_test_pred = ridge_cv_grid.predict(X_test)\n",
    "print_info(\"test\", y_test, ridge_reg_test_pred)"
   ]
  },
  {
   "cell_type": "code",
   "execution_count": null,
   "metadata": {},
   "outputs": [],
   "source": [
    "# Inspect cross validation performance, optimal score and parameters\n",
    "print('Best model acheived a score: %s'% ridge_cv_grid.best_score_)\n",
    "print('Best model parameters: %s' % ridge_cv_grid.best_params_)"
   ]
  },
  {
   "cell_type": "markdown",
   "metadata": {},
   "source": [
    "### Cross validation option 3 - Parameter search using a tranformation pipeline"
   ]
  },
  {
   "cell_type": "code",
   "execution_count": null,
   "metadata": {},
   "outputs": [],
   "source": [
    "ridge_cv_pipeline = Pipeline([('scaler', StandardScaler()), \n",
    "                     ('ridgeCV', GridSearchCV(estimator=Ridge(), \n",
    "                     param_grid=ridge_params, cv=ridge_cv))])"
   ]
  },
  {
   "cell_type": "markdown",
   "metadata": {},
   "source": [
    "Fit the model to the data while regularizing the weights using l2 norm penalty"
   ]
  },
  {
   "cell_type": "code",
   "execution_count": null,
   "metadata": {},
   "outputs": [],
   "source": [
    "ridge_cv_pipeline.fit(X_train, y_train)"
   ]
  },
  {
   "cell_type": "markdown",
   "metadata": {},
   "source": [
    "Now that you have the features, learn the weights for the three different models for predicting median_house_value using linear regression, test the model, and look at the value of the weights/coefficients:"
   ]
  },
  {
   "cell_type": "code",
   "execution_count": null,
   "metadata": {},
   "outputs": [],
   "source": [
    "ridge_reg_train_pred = ridge_cv_pipeline.predict(X_train)\n",
    "print_info(\"train\", y_train, ridge_reg_train_pred)"
   ]
  },
  {
   "cell_type": "markdown",
   "metadata": {},
   "source": [
    "Now that you have evlauated the model on the training data, let's explore how the model generalizes to new examples."
   ]
  },
  {
   "cell_type": "code",
   "execution_count": null,
   "metadata": {},
   "outputs": [],
   "source": [
    "ridge_reg_test_pred = ridge_cv_pipeline.predict(X_test)\n",
    "print_info(\"test\", y_test, ridge_reg_test_pred)"
   ]
  },
  {
   "cell_type": "markdown",
   "metadata": {},
   "source": [
    "Inspect cross validation performance, optimal score and parameters\n",
    "- mean_fit_time: mean time to fit the model\n",
    "- mean_score_time: evaluate score\n",
    "- params: alpha and solver parameters\n",
    "- split0_test_score: evaluate score for each fold\n",
    "- mean_test_score: average test score\n",
    "- std_test_score: standard deviation of test score\n",
    "- rank_test_score: rank of best to worst perfoming model from 1 to number of folds"
   ]
  },
  {
   "cell_type": "markdown",
   "metadata": {},
   "source": [
    "### Find the *best* ridge regression  model"
   ]
  },
  {
   "cell_type": "code",
   "execution_count": null,
   "metadata": {},
   "outputs": [],
   "source": [
    "#print('Best model acheived a score: %s'% ridge_cv[-1].cv_results_)\n",
    "print('Best model mean_fit_time: %s'% ridge_cv_pipeline[-1].cv_results_['mean_fit_time'])\n",
    "print('Best model mean_score_time: %s'% ridge_cv_pipeline[-1].cv_results_['mean_score_time'])\n",
    "print('Best model params: %s'% ridge_cv_pipeline[-1].cv_results_['params'])\n",
    "print('Best model split0_test_score: %s'% ridge_cv_pipeline[-1].cv_results_['split0_test_score'])\n",
    "print('Best model mean_test_score: %s'% ridge_cv_pipeline[-1].cv_results_['mean_test_score'])\n",
    "print('Best model std_test_score: %s'% ridge_cv_pipeline[-1].cv_results_['std_test_score'])\n",
    "print('Best model rank_test_score: %s'% ridge_cv_pipeline[-1].cv_results_['rank_test_score']) # top model with rank=1"
   ]
  },
  {
   "cell_type": "markdown",
   "metadata": {},
   "source": [
    "Next, train a ridge model using parameters for the best performing model from above. What are the ridge coefficients?"
   ]
  },
  {
   "cell_type": "code",
   "execution_count": null,
   "metadata": {},
   "outputs": [],
   "source": [
    "# Activity [Ans]\n",
    "\n",
    "# Get solver and parameters of top model\n",
    "\n",
    "# Normalize data\n",
    "\n",
    "# Use parameters and solver for top model\n",
    "\n",
    "# Evlauate model on training data\n",
    "\n",
    "# Evlauate model on test data"
   ]
  },
  {
   "cell_type": "markdown",
   "metadata": {},
   "source": [
    "## Learning Lasso Regression Models"
   ]
  },
  {
   "cell_type": "code",
   "execution_count": null,
   "metadata": {},
   "outputs": [],
   "source": [
    "from sklearn.linear_model import Lasso"
   ]
  },
  {
   "cell_type": "code",
   "execution_count": null,
   "metadata": {},
   "outputs": [],
   "source": [
    "lasso_model = Lasso(alpha=1, random_state=42)\n",
    "lasso_model.fit(X_train, y_train)\n",
    "lasso_reg_train_pred = lasso_model.predict(X_train)\n",
    "print_info(\"train\", y_train, lasso_reg_train_pred)"
   ]
  },
  {
   "cell_type": "markdown",
   "metadata": {},
   "source": [
    "Define lasso hyperparameters"
   ]
  },
  {
   "cell_type": "code",
   "execution_count": null,
   "metadata": {},
   "outputs": [],
   "source": [
    "n_splits=5\n",
    "n_repeats=3\n",
    "scoring='neg_mean_absolute_error' # neg_mean_squared_error for RMSE, 'r2' for R2 score\n",
    "\n",
    "# evaluation method\n",
    "lasso_cv = RepeatedKFold(n_splits=n_splits, n_repeats=n_repeats, random_state=1)"
   ]
  },
  {
   "cell_type": "markdown",
   "metadata": {},
   "source": [
    "Define regularization parameter \n",
    "- alpha: (referred to as lambda in slides) weight used to determine most useful features for predecting housing prices; must be non-negative\n",
    "- tolerance: determines when cross validation ends; set to low leads to early stopping and could result in bad performance; set too high could result in long training time for convergence."
   ]
  },
  {
   "cell_type": "code",
   "execution_count": null,
   "metadata": {},
   "outputs": [],
   "source": [
    "lasso_params = {\n",
    "  'tol': [1, 0.5, 0.1],\n",
    "  'alpha': [1, 0.5, 0.1],\n",
    "}"
   ]
  },
  {
   "cell_type": "markdown",
   "metadata": {},
   "source": [
    "Perform cross validation to search for the best lambda paramater (alpha) using l1 norm regularization."
   ]
  },
  {
   "cell_type": "code",
   "execution_count": null,
   "metadata": {},
   "outputs": [],
   "source": [
    "# Option 1\n",
    "lasso_cv = GridSearchCV(estimator=Lasso(), param_grid=lasso_params, cv=lasso_cv).fit(X_train, y_train)"
   ]
  },
  {
   "cell_type": "code",
   "execution_count": null,
   "metadata": {},
   "outputs": [],
   "source": [
    "# Option 2: Transformation Pipelines\n",
    "#lasso_cv = Pipeline([('scaler', StandardScaler()), ('lassoCV', GridSearchCV(estimator=Lasso(), param_grid=lasso_params, cv=lasso_cv))])"
   ]
  },
  {
   "cell_type": "markdown",
   "metadata": {},
   "source": [
    "Fit the model to the data while regularizing the weights using l1 norm penalty, learn the weights for predicting median_house_value using lasso regression, test the model, and look at the value of the weights/coefficients:"
   ]
  },
  {
   "cell_type": "code",
   "execution_count": null,
   "metadata": {},
   "outputs": [],
   "source": [
    "lasso_cv.fit(X_train, y_train)"
   ]
  },
  {
   "cell_type": "code",
   "execution_count": null,
   "metadata": {},
   "outputs": [],
   "source": [
    "# View params with best performance\n",
    "lasso_cv.best_params_"
   ]
  },
  {
   "cell_type": "markdown",
   "metadata": {},
   "source": [
    "Now, evaluate the model on the training data"
   ]
  },
  {
   "cell_type": "code",
   "execution_count": null,
   "metadata": {},
   "outputs": [],
   "source": [
    "lasso_reg_train_pred = lasso_cv.predict(X_train)\n",
    "print_info(\"train\", y_train, lasso_reg_train_pred)"
   ]
  },
  {
   "cell_type": "markdown",
   "metadata": {},
   "source": [
    "Now, evaluate the model on the test data"
   ]
  },
  {
   "cell_type": "code",
   "execution_count": null,
   "metadata": {},
   "outputs": [],
   "source": [
    "lasso_reg_test_pred = lasso_cv.predict(X_test)\n",
    "print_info(\"test\", y_test, lasso_reg_test_pred)"
   ]
  },
  {
   "cell_type": "markdown",
   "metadata": {},
   "source": [
    "Inspect cross validation performance, optimal score and parameters\n",
    "- mean_fit_time: mean time to fit the model\n",
    "- mean_score_time: evaluate score\n",
    "- params: alpha and solver parameters\n",
    "- split0_test_score: evaluate score for each fold\n",
    "- mean_test_score: average test score\n",
    "- std_test_score: standard deviation of test score\n",
    "- rank_test_score: rank of best to worst perfoming model from 1 to number of folds"
   ]
  },
  {
   "cell_type": "code",
   "execution_count": null,
   "metadata": {},
   "outputs": [],
   "source": [
    "#print('Best model acheived a score: %s'% lasso_cv.cv_results_.keys())\n",
    "print('Best model mean_test_score: %s'% lasso_cv.cv_results_['mean_test_score'])\n",
    "print('Best model rank_test_score: %s'% lasso_cv.cv_results_['rank_test_score'])"
   ]
  },
  {
   "cell_type": "markdown",
   "metadata": {},
   "source": [
    "Next, \n",
    "- Use cross validation to learn l1 norm regularization weights for lasso regression\n",
    "- Use the best model parameters to train a lasso regression model\n",
    "- Evaluate the lasso model using RMSE, MAE, and R2 \n",
    "(see ridge regression example)"
   ]
  },
  {
   "cell_type": "code",
   "execution_count": null,
   "metadata": {},
   "outputs": [],
   "source": [
    "# Activity [Ans]"
   ]
  },
  {
   "cell_type": "code",
   "execution_count": null,
   "metadata": {},
   "outputs": [],
   "source": [
    "# Create a lasso model with parameters of the best model\n",
    "lasso_model = Lasso(alpha=top_alpha, tol=top_tol, random_state=42)\n",
    "# Train lasso model\n",
    "lasso_model.fit(X_train, y_train)\n",
    "# Predict housing prices on training data\n",
    "lasso_reg_train_pred = lasso_model.predict(X_train)\n",
    "# Evaluate model on training data\n",
    "print_info(\"train\", y_train, lasso_reg_train_pred)\n",
    "# Predict housing prices on test data\n",
    "lasso_reg_test_pred = lasso_model.predict(X_test)\n",
    "# Evaluate model on training data\n",
    "print_info(\"test\", y_test, lasso_reg_test_pred)"
   ]
  },
  {
   "cell_type": "markdown",
   "metadata": {},
   "source": [
    "Test multiple regression model on one example"
   ]
  },
  {
   "cell_type": "code",
   "execution_count": null,
   "metadata": {},
   "outputs": [],
   "source": [
    "multiple_reg_features = ['number_bedrooms','number_bathrooms']\n",
    "multiple_reg_model = LinearRegression().fit(X_train[multiple_reg_features], y_train)\n",
    "\n",
    "multiple_reg_train_pred = multiple_reg_model.predict(X_train[multiple_reg_features])\n",
    "print_info(\"train\", y_train, multiple_reg_train_pred)"
   ]
  },
  {
   "cell_type": "code",
   "execution_count": null,
   "metadata": {},
   "outputs": [],
   "source": [
    "example_house = [2,2]\n",
    "multiple_reg_train_pred = multiple_reg_model.predict([example_house])\n",
    "print('multiple_reg_train_pred: {}'.format(multiple_reg_train_pred))"
   ]
  },
  {
   "cell_type": "code",
   "execution_count": null,
   "metadata": {},
   "outputs": [],
   "source": []
  }
 ],
 "metadata": {
  "kernelspec": {
   "display_name": "Python 3",
   "language": "python",
   "name": "python3"
  },
  "language_info": {
   "codemirror_mode": {
    "name": "ipython",
    "version": 3
   },
   "file_extension": ".py",
   "mimetype": "text/x-python",
   "name": "python",
   "nbconvert_exporter": "python",
   "pygments_lexer": "ipython3",
   "version": "3.8.8"
  },
  "vscode": {
   "interpreter": {
    "hash": "e774977668b7c0ae8309835a5187aa7fbf7669e7d0bb59755bc63e573643edcd"
   }
  }
 },
 "nbformat": 4,
 "nbformat_minor": 2
}
